{
 "cells": [
  {
   "cell_type": "code",
   "execution_count": 6,
   "metadata": {},
   "outputs": [],
   "source": [
    "from splinter import Browser\n",
    "from bs4 import BeautifulSoup as bs\n",
    "import time\n",
    "import requests\n",
    "import pandas as pd"
   ]
  },
  {
   "cell_type": "code",
   "execution_count": 23,
   "metadata": {},
   "outputs": [],
   "source": [
    "def init_browser():\n",
    "    # @NOTE: Replace the path with your actual path to the chromedriver\n",
    "    executable_path = {\"executable_path\":'chromedriver.exe'}\n",
    "    return Browser(\"chrome\", **executable_path, headless=False)\n"
   ]
  },
  {
   "cell_type": "code",
   "execution_count": 45,
   "metadata": {},
   "outputs": [],
   "source": [
    "def scrape_info():\n",
    "    browser = init_browser()\n",
    "    \n",
    "    # Visit visitcostarica.herokuapp.com\n",
    "    news_url = \"https://mars.nasa.gov/news/\"\n",
    "    browser.visit(news_url)\n",
    "\n",
    "    time.sleep(1)\n",
    "\n",
    "    # Scrape page into Soup\n",
    "    html = browser.html\n",
    "    soup = bs(html, \"html.parser\")\n",
    "\n",
    "    # Scrape news title\n",
    "    news_title = soup.find_all(\"div\", class_=\"content_title\")[1].text\n",
    "    news_p = soup.find(\"div\", class_=\"article_teaser_body\").text\n",
    "    print(news_title)\n",
    "    print(news_p)"
   ]
  },
  {
   "cell_type": "code",
   "execution_count": 46,
   "metadata": {},
   "outputs": [
    {
     "output_type": "stream",
     "name": "stdout",
     "text": "The Detective Aboard NASA's Perseverance Rover\nAn instrument called SHERLOC will, with the help of its partner WATSON, hunt for signs of ancient life by detecting organic molecules and minerals.\n"
    }
   ],
   "source": [
    "scrape_info()"
   ]
  },
  {
   "cell_type": "markdown",
   "metadata": {},
   "source": [
    "# Mars Image"
   ]
  },
  {
   "cell_type": "code",
   "execution_count": 57,
   "metadata": {},
   "outputs": [],
   "source": [
    "def scrape_featured_image():\n",
    "    browser = init_browser()\n",
    "\n",
    "    jpl_url=\"https://www.jpl.nasa.gov/spaceimages/?search=&category=Mars\"\n",
    "    browser.visit(jpl_url)\n",
    "\n",
    "    html = browser.html\n",
    "    soup = bs(html, \"html.parser\")\n",
    "\n",
    "    featured_image_url = 'http://www.jpl.nasa.gov' + soup.find(\"article\").find('a')['data-fancybox-href']\n",
    "    return featured_image_url"
   ]
  },
  {
   "cell_type": "code",
   "execution_count": 58,
   "metadata": {},
   "outputs": [
    {
     "output_type": "execute_result",
     "data": {
      "text/plain": "'http://www.jpl.nasa.gov/spaceimages/images/mediumsize/PIA16192_ip.jpg'"
     },
     "metadata": {},
     "execution_count": 58
    }
   ],
   "source": [
    "scrape_featured_image()"
   ]
  },
  {
   "cell_type": "markdown",
   "metadata": {},
   "source": [
    "# Mars Weather"
   ]
  },
  {
   "cell_type": "code",
   "execution_count": 54,
   "metadata": {
    "tags": [
     "outputPrepend"
    ]
   },
   "outputs": [],
   "source": [
    "import requests\n",
    "# browser = init_browser()\n",
    "def scrape_mars_weather():\n",
    "    twitter_url=\"https://twitter.com/marswxreport?lang=en\"\n",
    "# browser.visit(twitter_url)\n",
    "    data = requests.get(twitter_url)\n",
    "\n",
    "    soup = bs(data.text, \"html.parser\")\n",
    "    tweets = soup.find_all('div', class_=\"js-tweet-text-container\")\n",
    "\n",
    "    for tweet in tweets:\n",
    "        tweet.find('a', class_=\"twitter-timeline-link u-hidden\").decompose()\n",
    "        if \"sol \" in tweet.text:\n",
    "            mars_weather = tweet.text.strip()\n",
    "            break\n",
    "\n",
    "    print(mars_weather)"
   ]
  },
  {
   "cell_type": "code",
   "execution_count": 55,
   "metadata": {},
   "outputs": [
    {
     "output_type": "stream",
     "name": "stdout",
     "text": "InSight sol 534 (2020-05-27) low -92.8ºC (-135.1ºF) high 0.9ºC (33.7ºF)\nwinds from the SW at 4.8 m/s (10.8 mph) gusting to 18.8 m/s (42.1 mph)\npressure at 7.20 hPa\n"
    }
   ],
   "source": [
    "scrape_mars_weather()"
   ]
  },
  {
   "cell_type": "markdown",
   "metadata": {},
   "source": [
    "# Mars Facts"
   ]
  },
  {
   "cell_type": "code",
   "execution_count": 12,
   "metadata": {},
   "outputs": [],
   "source": [
    "import pandas as pd\n"
   ]
  },
  {
   "cell_type": "code",
   "execution_count": 13,
   "metadata": {},
   "outputs": [],
   "source": [
    "def scrape_mars_facts():\n",
    "    fact_url=\"https://space-facts.com/mars/\"\n",
    "#Use Pandas to scrape the table containing facts about the planet\n",
    "    fact_table = pd.read_html(fact_url)\n",
    "    fact_df = fact_table[0]\n",
    "    fact_df.columns=['Mars','Facts']\n",
    "    fact_df.columns=['Mars','Facts']\n",
    "    fact_df.set_index('Mars', inplace=True)\n",
    "    html_table = fact_df.to_html()\n",
    "    html_table = html_table.replace('\\n', '')\n",
    "    return html_table"
   ]
  },
  {
   "cell_type": "code",
   "execution_count": 14,
   "metadata": {},
   "outputs": [
    {
     "output_type": "execute_result",
     "data": {
      "text/plain": "'<table border=\"1\" class=\"dataframe\">  <thead>    <tr style=\"text-align: right;\">      <th></th>      <th>Facts</th>    </tr>    <tr>      <th>Mars</th>      <th></th>    </tr>  </thead>  <tbody>    <tr>      <th>Equatorial Diameter:</th>      <td>6,792 km</td>    </tr>    <tr>      <th>Polar Diameter:</th>      <td>6,752 km</td>    </tr>    <tr>      <th>Mass:</th>      <td>6.39 × 10^23 kg (0.11 Earths)</td>    </tr>    <tr>      <th>Moons:</th>      <td>2 (Phobos &amp; Deimos)</td>    </tr>    <tr>      <th>Orbit Distance:</th>      <td>227,943,824 km (1.38 AU)</td>    </tr>    <tr>      <th>Orbit Period:</th>      <td>687 days (1.9 years)</td>    </tr>    <tr>      <th>Surface Temperature:</th>      <td>-87 to -5 °C</td>    </tr>    <tr>      <th>First Record:</th>      <td>2nd millennium BC</td>    </tr>    <tr>      <th>Recorded By:</th>      <td>Egyptian astronomers</td>    </tr>  </tbody></table>'"
     },
     "metadata": {},
     "execution_count": 14
    }
   ],
   "source": [
    "scrape_mars_facts()"
   ]
  },
  {
   "cell_type": "markdown",
   "metadata": {},
   "source": [
    "# Mars Hemispheres"
   ]
  },
  {
   "cell_type": "code",
   "execution_count": 38,
   "metadata": {},
   "outputs": [],
   "source": [
    "def scrape_mars_hemispheres():\n",
    "#visit hemisphere website\n",
    "    h_url = \"https://astrogeology.usgs.gov/search/results?q=hemisphere+enhanced&k1=target&v1=Mars\"\n",
    "    response = requests.get(h_url)\n",
    "\n",
    "#Parsel url with Beautiful Soup\n",
    "    soup = bs(response.text, 'html.parser')\n",
    "\n",
    "#Retreive all items that contain mars hemispheres information\n",
    "    items = soup.find_all('div', class_='item')\n",
    "\n",
    "#Create empty list for hemisphere urls\n",
    "    h_image_urls =[]\n",
    "    hemisphere_main_url = 'https://astrogeology.usgs.gov'\n",
    "\n",
    "    #browser = init_browser()\n",
    "    for i in items:\n",
    "        title = i.find('h3').text\n",
    "        partial_img_url = i.find('a', class_='itemLink product-item')['href']\n",
    "        #browser.visit(hemisphere_main_url + partial_img_url)\n",
    "        res = requests.get(hemisphere_main_url + partial_img_url)\n",
    "        partial_img_html = res.text #browser.html\n",
    "        soup = bs(partial_img_html, 'html.parser')\n",
    "        img_url = hemisphere_main_url + soup.find('img', class_='wide-image')['src']\n",
    "        h_image_urls.append({'title':title,'img_url':img_url})\n",
    "        \n",
    "    return h_image_urls"
   ]
  },
  {
   "cell_type": "code",
   "execution_count": 39,
   "metadata": {},
   "outputs": [
    {
     "output_type": "execute_result",
     "data": {
      "text/plain": "[{'title': 'Cerberus Hemisphere Enhanced',\n  'img_url': 'https://astrogeology.usgs.gov/cache/images/f5e372a36edfa389625da6d0cc25d905_cerberus_enhanced.tif_full.jpg'},\n {'title': 'Schiaparelli Hemisphere Enhanced',\n  'img_url': 'https://astrogeology.usgs.gov/cache/images/3778f7b43bbbc89d6e3cfabb3613ba93_schiaparelli_enhanced.tif_full.jpg'},\n {'title': 'Syrtis Major Hemisphere Enhanced',\n  'img_url': 'https://astrogeology.usgs.gov/cache/images/555e6403a6ddd7ba16ddb0e471cadcf7_syrtis_major_enhanced.tif_full.jpg'},\n {'title': 'Valles Marineris Hemisphere Enhanced',\n  'img_url': 'https://astrogeology.usgs.gov/cache/images/b3c7c6c9138f57b4756be9b9c43e3a48_valles_marineris_enhanced.tif_full.jpg'}]"
     },
     "metadata": {},
     "execution_count": 39
    }
   ],
   "source": [
    "scrape_mars_hemispheres()"
   ]
  },
  {
   "cell_type": "code",
   "execution_count": null,
   "metadata": {},
   "outputs": [],
   "source": []
  }
 ],
 "metadata": {
  "kernelspec": {
   "display_name": "Python 3",
   "language": "python",
   "name": "python3"
  },
  "language_info": {
   "codemirror_mode": {
    "name": "ipython",
    "version": 3
   },
   "file_extension": ".py",
   "mimetype": "text/x-python",
   "name": "python",
   "nbconvert_exporter": "python",
   "pygments_lexer": "ipython3",
   "version": "3.7.4-final"
  }
 },
 "nbformat": 4,
 "nbformat_minor": 2
}